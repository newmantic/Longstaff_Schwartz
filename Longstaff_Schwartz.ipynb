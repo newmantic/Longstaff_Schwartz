{
  "nbformat": 4,
  "nbformat_minor": 0,
  "metadata": {
    "colab": {
      "provenance": [],
      "authorship_tag": "ABX9TyPlFpklNgfkU3sZ7g5gs12C",
      "include_colab_link": true
    },
    "kernelspec": {
      "name": "python3",
      "display_name": "Python 3"
    },
    "language_info": {
      "name": "python"
    }
  },
  "cells": [
    {
      "cell_type": "markdown",
      "metadata": {
        "id": "view-in-github",
        "colab_type": "text"
      },
      "source": [
        "<a href=\"https://colab.research.google.com/github/newmantic/Longstaff_Schwartz/blob/main/Longstaff_Schwartz.ipynb\" target=\"_parent\"><img src=\"https://colab.research.google.com/assets/colab-badge.svg\" alt=\"Open In Colab\"/></a>"
      ]
    },
    {
      "cell_type": "code",
      "execution_count": 1,
      "metadata": {
        "id": "Rt4-_YqP_f9J"
      },
      "outputs": [],
      "source": [
        "import numpy as np\n",
        "from numpy.polynomial.laguerre import lagval\n",
        "\n",
        "def longstaff_schwartz_american_option(S0, K, r, sigma, T, M, N, option_type='call'):\n",
        "    \"\"\"\n",
        "    Longstaff-Schwartz method for pricing American options.\n",
        "\n",
        "    Parameters:\n",
        "    - S0: Initial stock price\n",
        "    - K: Strike price\n",
        "    - r: Risk-free interest rate (annual)\n",
        "    - sigma: Volatility of the underlying asset (annual)\n",
        "    - T: Time to maturity (in years)\n",
        "    - M: Number of simulations\n",
        "    - N: Number of time steps\n",
        "    - option_type: 'call' for call option, 'put' for put option\n",
        "\n",
        "    Returns:\n",
        "    - option_price: The estimated price of the American option\n",
        "    \"\"\"\n",
        "    dt = T / N\n",
        "    discount_factor = np.exp(-r * dt)\n",
        "\n",
        "    # Simulate asset price paths\n",
        "    S = np.zeros((M, N + 1))\n",
        "    S[:, 0] = S0\n",
        "    for t in range(1, N + 1):\n",
        "        Z = np.random.normal(0, 1, M)\n",
        "        S[:, t] = S[:, t-1] * np.exp((r - 0.5 * sigma**2) * dt + sigma * np.sqrt(dt) * Z)\n",
        "\n",
        "    # Initialize option values at maturity\n",
        "    if option_type == 'call':\n",
        "        V = np.maximum(S[:, -1] - K, 0)\n",
        "    elif option_type == 'put':\n",
        "        V = np.maximum(K - S[:, -1], 0)\n",
        "    else:\n",
        "        raise ValueError(\"Invalid option type. Choose 'call' or 'put'.\")\n",
        "\n",
        "    # Step backwards in time to estimate the option price\n",
        "    for t in range(N-1, 0, -1):\n",
        "        in_the_money = np.where(S[:, t] > K if option_type == 'call' else S[:, t] < K)[0]\n",
        "        X = S[in_the_money, t]\n",
        "        Y = discount_factor * V[in_the_money]\n",
        "\n",
        "        if len(X) > 0:\n",
        "            # Regression to estimate continuation value\n",
        "            A = np.vander(X, 4)\n",
        "            C = np.linalg.lstsq(A, Y, rcond=None)[0]\n",
        "            continuation_value = lagval(X, C)\n",
        "\n",
        "            exercise_value = np.maximum(S[in_the_money, t] - K, 0) if option_type == 'call' else np.maximum(K - S[in_the_money, t], 0)\n",
        "            V[in_the_money] = np.where(exercise_value > continuation_value, exercise_value, discount_factor * V[in_the_money])\n",
        "\n",
        "    # Option price is the discounted expected payoff\n",
        "    option_price = discount_factor * np.mean(V)\n",
        "\n",
        "    return option_price"
      ]
    },
    {
      "cell_type": "code",
      "source": [
        "# Parameters\n",
        "S0 = 100         # Initial stock price\n",
        "K = 100          # Strike price\n",
        "r = 0.05         # Risk-free interest rate (5% per annum)\n",
        "sigma = 0.2      # Volatility (20% per annum)\n",
        "T = 1            # Time to maturity (1 year)\n",
        "M = 10000        # Number of simulations\n",
        "N = 50           # Number of time steps\n",
        "\n",
        "# Price the American call option\n",
        "call_price = longstaff_schwartz_american_option(S0, K, r, sigma, T, M, N, option_type='call')\n",
        "print(f\"American Call Option Price: {call_price:.2f}\")\n",
        "\n",
        "# Price the American put option\n",
        "put_price = longstaff_schwartz_american_option(S0, K, r, sigma, T, M, N, option_type='put')\n",
        "print(f\"American Put Option Price: {put_price:.2f}\")"
      ],
      "metadata": {
        "colab": {
          "base_uri": "https://localhost:8080/"
        },
        "id": "J_Fa5grH_p5x",
        "outputId": "535e9c93-94de-445f-ccff-10fff246c545"
      },
      "execution_count": 2,
      "outputs": [
        {
          "output_type": "stream",
          "name": "stdout",
          "text": [
            "American Call Option Price: 2.09\n",
            "American Put Option Price: 4.37\n"
          ]
        }
      ]
    }
  ]
}